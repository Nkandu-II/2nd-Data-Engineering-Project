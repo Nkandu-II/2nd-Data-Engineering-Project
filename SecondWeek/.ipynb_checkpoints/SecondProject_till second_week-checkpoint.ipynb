{
 "cells": [
  {
   "cell_type": "markdown",
   "metadata": {},
   "source": [
    "<center><b><h1>  The Project\n",
    "<center><b> Play Store Reviews"
   ]
  },
  {
   "cell_type": "markdown",
   "metadata": {},
   "source": [
    "**First Week:**"
   ]
  },
  {
   "cell_type": "markdown",
   "metadata": {},
   "source": [
    "Dataset: https://drive.google.com/drive/folders/1FYv3LS827CiclAZUjlYBobuzKmOe6Grp"
   ]
  },
  {
   "cell_type": "markdown",
   "metadata": {},
   "source": [
    "**Tasks (Individually): **\n",
    "* Clean and prepare the dataset for analyzing \n",
    "* Plot top 3 installed application using any type of plotting charts\n",
    "\n",
    "**Extra Information:**\n",
    "* Data Cleaning article: https://www.geeksforgeeks.org/working-with-missing-data-in-pandas/ https://monkeylearn.com/blogdata-cleaning-techniques/\n",
    "* More Data Cleaning articles: https://monkeylearn.com/blog/data-cleaning-techniques/\n",
    "* A data Cleaning Tutorial: https://www.youtube.com/watch?v=IxxGqoOksJ4&ab_channel=DataDaft\n",
    "GeeksforGeeks\n",
    "Working with Missing Data in Pandas - GeeksforGeeks\n",
    "A Computer Science portal for geeks. It contains well written, well thought and well explained computer science and programming articles, quizzes and practice/competitive programming/company interview Questions."
   ]
  },
  {
   "cell_type": "markdown",
   "metadata": {},
   "source": [
    "**Working with Missing Data in Pandas** - GeeksforGeeks\n",
    "\n",
    "https://www.geeksforgeeks.org/working-with-missing-data-in-pandas/\n",
    "\n",
    "A Computer Science portal for geeks. \n",
    "It contains well written, well thought and well explained computer science and programming articles, quizzes and practice/competitive programming/company interview Questions.\n",
    "\n",
    "\n",
    "\n"
   ]
  },
  {
   "cell_type": "markdown",
   "metadata": {},
   "source": [
    "**8 Effective Data Cleaning Techniques for Better Data** -MonkeyLearn Blog\n",
    "\n",
    "Learn what data cleaning is and discover effective and straightforward techniques to clean your data. \n",
    "\n",
    "Plus, get the tools to analyze qualitative data.\n",
    "\n",
    "8 Effective Data Cleaning Techniques for Better Data\n",
    "\n",
    "https://monkeylearn.com/blog/data-cleaning-techniques/"
   ]
  },
  {
   "cell_type": "markdown",
   "metadata": {},
   "source": [
    "**DataDaft** -YouTube \n",
    "\n",
    "***Python for Data Analysis: Exploring and Cleaning Data***\n",
    "\n",
    "https://www.youtube.com/watch?v=IxxGqoOksJ4"
   ]
  },
  {
   "cell_type": "markdown",
   "metadata": {},
   "source": [
    "<center>\n",
    "<h1> The analysis</h1>\n",
    "<p> The extended version</p>"
   ]
  },
  {
   "cell_type": "code",
   "execution_count": 1,
   "metadata": {},
   "outputs": [],
   "source": [
    "import pandas as pd\n",
    "import numpy as np\n",
    "import matplotlib.pyplot as plt"
   ]
  },
  {
   "cell_type": "code",
   "execution_count": 2,
   "metadata": {},
   "outputs": [],
   "source": [
    "# read the data\n",
    "play_store = pd.read_csv('googleplaystore.csv')\n",
    "user_reviews = pd.read_csv('googleplaystore_user_reviews.csv')"
   ]
  },
  {
   "cell_type": "code",
   "execution_count": 3,
   "metadata": {},
   "outputs": [
    {
     "name": "stdout",
     "output_type": "stream",
     "text": [
      "This is a display of the first 3 rows\n"
     ]
    },
    {
     "data": {
      "text/html": [
       "<div>\n",
       "<style scoped>\n",
       "    .dataframe tbody tr th:only-of-type {\n",
       "        vertical-align: middle;\n",
       "    }\n",
       "\n",
       "    .dataframe tbody tr th {\n",
       "        vertical-align: top;\n",
       "    }\n",
       "\n",
       "    .dataframe thead th {\n",
       "        text-align: right;\n",
       "    }\n",
       "</style>\n",
       "<table border=\"1\" class=\"dataframe\">\n",
       "  <thead>\n",
       "    <tr style=\"text-align: right;\">\n",
       "      <th></th>\n",
       "      <th>App</th>\n",
       "      <th>Category</th>\n",
       "      <th>Rating</th>\n",
       "      <th>Reviews</th>\n",
       "      <th>Size</th>\n",
       "      <th>Installs</th>\n",
       "      <th>Type</th>\n",
       "      <th>Price</th>\n",
       "      <th>Content Rating</th>\n",
       "      <th>Genres</th>\n",
       "      <th>Last Updated</th>\n",
       "      <th>Current Ver</th>\n",
       "      <th>Android Ver</th>\n",
       "    </tr>\n",
       "  </thead>\n",
       "  <tbody>\n",
       "    <tr>\n",
       "      <th>0</th>\n",
       "      <td>Photo Editor &amp; Candy Camera &amp; Grid &amp; ScrapBook</td>\n",
       "      <td>ART_AND_DESIGN</td>\n",
       "      <td>4.1</td>\n",
       "      <td>159</td>\n",
       "      <td>19M</td>\n",
       "      <td>10,000+</td>\n",
       "      <td>Free</td>\n",
       "      <td>0</td>\n",
       "      <td>Everyone</td>\n",
       "      <td>Art &amp; Design</td>\n",
       "      <td>January 7, 2018</td>\n",
       "      <td>1.0.0</td>\n",
       "      <td>4.0.3 and up</td>\n",
       "    </tr>\n",
       "    <tr>\n",
       "      <th>1</th>\n",
       "      <td>Coloring book moana</td>\n",
       "      <td>ART_AND_DESIGN</td>\n",
       "      <td>3.9</td>\n",
       "      <td>967</td>\n",
       "      <td>14M</td>\n",
       "      <td>500,000+</td>\n",
       "      <td>Free</td>\n",
       "      <td>0</td>\n",
       "      <td>Everyone</td>\n",
       "      <td>Art &amp; Design;Pretend Play</td>\n",
       "      <td>January 15, 2018</td>\n",
       "      <td>2.0.0</td>\n",
       "      <td>4.0.3 and up</td>\n",
       "    </tr>\n",
       "    <tr>\n",
       "      <th>2</th>\n",
       "      <td>U Launcher Lite – FREE Live Cool Themes, Hide ...</td>\n",
       "      <td>ART_AND_DESIGN</td>\n",
       "      <td>4.7</td>\n",
       "      <td>87510</td>\n",
       "      <td>8.7M</td>\n",
       "      <td>5,000,000+</td>\n",
       "      <td>Free</td>\n",
       "      <td>0</td>\n",
       "      <td>Everyone</td>\n",
       "      <td>Art &amp; Design</td>\n",
       "      <td>August 1, 2018</td>\n",
       "      <td>1.2.4</td>\n",
       "      <td>4.0.3 and up</td>\n",
       "    </tr>\n",
       "  </tbody>\n",
       "</table>\n",
       "</div>"
      ],
      "text/plain": [
       "                                                 App        Category  Rating  \\\n",
       "0     Photo Editor & Candy Camera & Grid & ScrapBook  ART_AND_DESIGN     4.1   \n",
       "1                                Coloring book moana  ART_AND_DESIGN     3.9   \n",
       "2  U Launcher Lite – FREE Live Cool Themes, Hide ...  ART_AND_DESIGN     4.7   \n",
       "\n",
       "  Reviews  Size    Installs  Type Price Content Rating  \\\n",
       "0     159   19M     10,000+  Free     0       Everyone   \n",
       "1     967   14M    500,000+  Free     0       Everyone   \n",
       "2   87510  8.7M  5,000,000+  Free     0       Everyone   \n",
       "\n",
       "                      Genres      Last Updated Current Ver   Android Ver  \n",
       "0               Art & Design   January 7, 2018       1.0.0  4.0.3 and up  \n",
       "1  Art & Design;Pretend Play  January 15, 2018       2.0.0  4.0.3 and up  \n",
       "2               Art & Design    August 1, 2018       1.2.4  4.0.3 and up  "
      ]
     },
     "metadata": {},
     "output_type": "display_data"
    }
   ],
   "source": [
    "print('This is a display of the first 3 rows')\n",
    "display(play_store.head(3))"
   ]
  },
  {
   "cell_type": "code",
   "execution_count": 4,
   "metadata": {},
   "outputs": [
    {
     "name": "stdout",
     "output_type": "stream",
     "text": [
      "<class 'pandas.core.frame.DataFrame'>\n",
      "RangeIndex: 10841 entries, 0 to 10840\n",
      "Data columns (total 13 columns):\n",
      " #   Column          Non-Null Count  Dtype  \n",
      "---  ------          --------------  -----  \n",
      " 0   App             10841 non-null  object \n",
      " 1   Category        10841 non-null  object \n",
      " 2   Rating          9367 non-null   float64\n",
      " 3   Reviews         10841 non-null  object \n",
      " 4   Size            10841 non-null  object \n",
      " 5   Installs        10841 non-null  object \n",
      " 6   Type            10840 non-null  object \n",
      " 7   Price           10841 non-null  object \n",
      " 8   Content Rating  10840 non-null  object \n",
      " 9   Genres          10841 non-null  object \n",
      " 10  Last Updated    10841 non-null  object \n",
      " 11  Current Ver     10833 non-null  object \n",
      " 12  Android Ver     10838 non-null  object \n",
      "dtypes: float64(1), object(12)\n",
      "memory usage: 1.1+ MB\n",
      "None\n"
     ]
    }
   ],
   "source": [
    "print(play_store.info())\n",
    "# using the info we can see the data type(Dtype) and the non-null values that each column has, AND as a result we know how many missing values each collumn has."
   ]
  },
  {
   "cell_type": "markdown",
   "metadata": {},
   "source": [
    "From the above outputs we can see that the \"Reviews\", \"Size\", \"Installs\", and \"Price\" columns should be numerical, but they are currently strings. \n",
    "\n",
    "So propably we should make the appropriate changes and convert them into the correct data type. \n",
    "\n",
    "The \"Last Updated\"  column maybe should be date data type, but they are currently strings. \n",
    "\n",
    "The Rating category has a lot of values missing."
   ]
  },
  {
   "cell_type": "code",
   "execution_count": 5,
   "metadata": {},
   "outputs": [
    {
     "name": "stdout",
     "output_type": "stream",
     "text": [
      "The number of rows and columns\n",
      "(10841, 13)\n",
      "\n",
      "How many null values there are on the play_store data frame\n",
      "1487\n"
     ]
    }
   ],
   "source": [
    "print(\"The number of rows and columns\")\n",
    "print(play_store.shape)\n",
    "\n",
    "print(\"\")\n",
    "print(\"How many null values there are on the play_store data frame\")\n",
    "print(play_store.isnull().sum().sum())"
   ]
  },
  {
   "cell_type": "markdown",
   "metadata": {},
   "source": [
    "<b> I am checking to see if there were any duplicates in our data frame, and I remove them."
   ]
  },
  {
   "cell_type": "code",
   "execution_count": 6,
   "metadata": {},
   "outputs": [
    {
     "name": "stdout",
     "output_type": "stream",
     "text": [
      "The number of rows and columns after I removed the duplicates\n",
      "(10358, 13)\n"
     ]
    },
    {
     "data": {
      "text/html": [
       "<div>\n",
       "<style scoped>\n",
       "    .dataframe tbody tr th:only-of-type {\n",
       "        vertical-align: middle;\n",
       "    }\n",
       "\n",
       "    .dataframe tbody tr th {\n",
       "        vertical-align: top;\n",
       "    }\n",
       "\n",
       "    .dataframe thead th {\n",
       "        text-align: right;\n",
       "    }\n",
       "</style>\n",
       "<table border=\"1\" class=\"dataframe\">\n",
       "  <thead>\n",
       "    <tr style=\"text-align: right;\">\n",
       "      <th></th>\n",
       "      <th>App</th>\n",
       "      <th>Category</th>\n",
       "      <th>Rating</th>\n",
       "      <th>Reviews</th>\n",
       "      <th>Size</th>\n",
       "      <th>Installs</th>\n",
       "      <th>Type</th>\n",
       "      <th>Price</th>\n",
       "      <th>Content Rating</th>\n",
       "      <th>Genres</th>\n",
       "      <th>Last Updated</th>\n",
       "      <th>Current Ver</th>\n",
       "      <th>Android Ver</th>\n",
       "    </tr>\n",
       "  </thead>\n",
       "  <tbody>\n",
       "    <tr>\n",
       "      <th>0</th>\n",
       "      <td>Photo Editor &amp; Candy Camera &amp; Grid &amp; ScrapBook</td>\n",
       "      <td>ART_AND_DESIGN</td>\n",
       "      <td>4.1</td>\n",
       "      <td>159</td>\n",
       "      <td>19M</td>\n",
       "      <td>10,000+</td>\n",
       "      <td>Free</td>\n",
       "      <td>0</td>\n",
       "      <td>Everyone</td>\n",
       "      <td>Art &amp; Design</td>\n",
       "      <td>January 7, 2018</td>\n",
       "      <td>1.0.0</td>\n",
       "      <td>4.0.3 and up</td>\n",
       "    </tr>\n",
       "    <tr>\n",
       "      <th>1</th>\n",
       "      <td>Coloring book moana</td>\n",
       "      <td>ART_AND_DESIGN</td>\n",
       "      <td>3.9</td>\n",
       "      <td>967</td>\n",
       "      <td>14M</td>\n",
       "      <td>500,000+</td>\n",
       "      <td>Free</td>\n",
       "      <td>0</td>\n",
       "      <td>Everyone</td>\n",
       "      <td>Art &amp; Design;Pretend Play</td>\n",
       "      <td>January 15, 2018</td>\n",
       "      <td>2.0.0</td>\n",
       "      <td>4.0.3 and up</td>\n",
       "    </tr>\n",
       "    <tr>\n",
       "      <th>2</th>\n",
       "      <td>U Launcher Lite – FREE Live Cool Themes, Hide ...</td>\n",
       "      <td>ART_AND_DESIGN</td>\n",
       "      <td>4.7</td>\n",
       "      <td>87510</td>\n",
       "      <td>8.7M</td>\n",
       "      <td>5,000,000+</td>\n",
       "      <td>Free</td>\n",
       "      <td>0</td>\n",
       "      <td>Everyone</td>\n",
       "      <td>Art &amp; Design</td>\n",
       "      <td>August 1, 2018</td>\n",
       "      <td>1.2.4</td>\n",
       "      <td>4.0.3 and up</td>\n",
       "    </tr>\n",
       "    <tr>\n",
       "      <th>3</th>\n",
       "      <td>Sketch - Draw &amp; Paint</td>\n",
       "      <td>ART_AND_DESIGN</td>\n",
       "      <td>4.5</td>\n",
       "      <td>215644</td>\n",
       "      <td>25M</td>\n",
       "      <td>50,000,000+</td>\n",
       "      <td>Free</td>\n",
       "      <td>0</td>\n",
       "      <td>Teen</td>\n",
       "      <td>Art &amp; Design</td>\n",
       "      <td>June 8, 2018</td>\n",
       "      <td>Varies with device</td>\n",
       "      <td>4.2 and up</td>\n",
       "    </tr>\n",
       "    <tr>\n",
       "      <th>4</th>\n",
       "      <td>Pixel Draw - Number Art Coloring Book</td>\n",
       "      <td>ART_AND_DESIGN</td>\n",
       "      <td>4.3</td>\n",
       "      <td>967</td>\n",
       "      <td>2.8M</td>\n",
       "      <td>100,000+</td>\n",
       "      <td>Free</td>\n",
       "      <td>0</td>\n",
       "      <td>Everyone</td>\n",
       "      <td>Art &amp; Design;Creativity</td>\n",
       "      <td>June 20, 2018</td>\n",
       "      <td>1.1</td>\n",
       "      <td>4.4 and up</td>\n",
       "    </tr>\n",
       "    <tr>\n",
       "      <th>...</th>\n",
       "      <td>...</td>\n",
       "      <td>...</td>\n",
       "      <td>...</td>\n",
       "      <td>...</td>\n",
       "      <td>...</td>\n",
       "      <td>...</td>\n",
       "      <td>...</td>\n",
       "      <td>...</td>\n",
       "      <td>...</td>\n",
       "      <td>...</td>\n",
       "      <td>...</td>\n",
       "      <td>...</td>\n",
       "      <td>...</td>\n",
       "    </tr>\n",
       "    <tr>\n",
       "      <th>10836</th>\n",
       "      <td>Sya9a Maroc - FR</td>\n",
       "      <td>FAMILY</td>\n",
       "      <td>4.5</td>\n",
       "      <td>38</td>\n",
       "      <td>53M</td>\n",
       "      <td>5,000+</td>\n",
       "      <td>Free</td>\n",
       "      <td>0</td>\n",
       "      <td>Everyone</td>\n",
       "      <td>Education</td>\n",
       "      <td>July 25, 2017</td>\n",
       "      <td>1.48</td>\n",
       "      <td>4.1 and up</td>\n",
       "    </tr>\n",
       "    <tr>\n",
       "      <th>10837</th>\n",
       "      <td>Fr. Mike Schmitz Audio Teachings</td>\n",
       "      <td>FAMILY</td>\n",
       "      <td>5.0</td>\n",
       "      <td>4</td>\n",
       "      <td>3.6M</td>\n",
       "      <td>100+</td>\n",
       "      <td>Free</td>\n",
       "      <td>0</td>\n",
       "      <td>Everyone</td>\n",
       "      <td>Education</td>\n",
       "      <td>July 6, 2018</td>\n",
       "      <td>1.0</td>\n",
       "      <td>4.1 and up</td>\n",
       "    </tr>\n",
       "    <tr>\n",
       "      <th>10838</th>\n",
       "      <td>Parkinson Exercices FR</td>\n",
       "      <td>MEDICAL</td>\n",
       "      <td>NaN</td>\n",
       "      <td>3</td>\n",
       "      <td>9.5M</td>\n",
       "      <td>1,000+</td>\n",
       "      <td>Free</td>\n",
       "      <td>0</td>\n",
       "      <td>Everyone</td>\n",
       "      <td>Medical</td>\n",
       "      <td>January 20, 2017</td>\n",
       "      <td>1.0</td>\n",
       "      <td>2.2 and up</td>\n",
       "    </tr>\n",
       "    <tr>\n",
       "      <th>10839</th>\n",
       "      <td>The SCP Foundation DB fr nn5n</td>\n",
       "      <td>BOOKS_AND_REFERENCE</td>\n",
       "      <td>4.5</td>\n",
       "      <td>114</td>\n",
       "      <td>Varies with device</td>\n",
       "      <td>1,000+</td>\n",
       "      <td>Free</td>\n",
       "      <td>0</td>\n",
       "      <td>Mature 17+</td>\n",
       "      <td>Books &amp; Reference</td>\n",
       "      <td>January 19, 2015</td>\n",
       "      <td>Varies with device</td>\n",
       "      <td>Varies with device</td>\n",
       "    </tr>\n",
       "    <tr>\n",
       "      <th>10840</th>\n",
       "      <td>iHoroscope - 2018 Daily Horoscope &amp; Astrology</td>\n",
       "      <td>LIFESTYLE</td>\n",
       "      <td>4.5</td>\n",
       "      <td>398307</td>\n",
       "      <td>19M</td>\n",
       "      <td>10,000,000+</td>\n",
       "      <td>Free</td>\n",
       "      <td>0</td>\n",
       "      <td>Everyone</td>\n",
       "      <td>Lifestyle</td>\n",
       "      <td>July 25, 2018</td>\n",
       "      <td>Varies with device</td>\n",
       "      <td>Varies with device</td>\n",
       "    </tr>\n",
       "  </tbody>\n",
       "</table>\n",
       "<p>10358 rows × 13 columns</p>\n",
       "</div>"
      ],
      "text/plain": [
       "                                                     App             Category  \\\n",
       "0         Photo Editor & Candy Camera & Grid & ScrapBook       ART_AND_DESIGN   \n",
       "1                                    Coloring book moana       ART_AND_DESIGN   \n",
       "2      U Launcher Lite – FREE Live Cool Themes, Hide ...       ART_AND_DESIGN   \n",
       "3                                  Sketch - Draw & Paint       ART_AND_DESIGN   \n",
       "4                  Pixel Draw - Number Art Coloring Book       ART_AND_DESIGN   \n",
       "...                                                  ...                  ...   \n",
       "10836                                   Sya9a Maroc - FR               FAMILY   \n",
       "10837                   Fr. Mike Schmitz Audio Teachings               FAMILY   \n",
       "10838                             Parkinson Exercices FR              MEDICAL   \n",
       "10839                      The SCP Foundation DB fr nn5n  BOOKS_AND_REFERENCE   \n",
       "10840      iHoroscope - 2018 Daily Horoscope & Astrology            LIFESTYLE   \n",
       "\n",
       "       Rating Reviews                Size     Installs  Type Price  \\\n",
       "0         4.1     159                 19M      10,000+  Free     0   \n",
       "1         3.9     967                 14M     500,000+  Free     0   \n",
       "2         4.7   87510                8.7M   5,000,000+  Free     0   \n",
       "3         4.5  215644                 25M  50,000,000+  Free     0   \n",
       "4         4.3     967                2.8M     100,000+  Free     0   \n",
       "...       ...     ...                 ...          ...   ...   ...   \n",
       "10836     4.5      38                 53M       5,000+  Free     0   \n",
       "10837     5.0       4                3.6M         100+  Free     0   \n",
       "10838     NaN       3                9.5M       1,000+  Free     0   \n",
       "10839     4.5     114  Varies with device       1,000+  Free     0   \n",
       "10840     4.5  398307                 19M  10,000,000+  Free     0   \n",
       "\n",
       "      Content Rating                     Genres      Last Updated  \\\n",
       "0           Everyone               Art & Design   January 7, 2018   \n",
       "1           Everyone  Art & Design;Pretend Play  January 15, 2018   \n",
       "2           Everyone               Art & Design    August 1, 2018   \n",
       "3               Teen               Art & Design      June 8, 2018   \n",
       "4           Everyone    Art & Design;Creativity     June 20, 2018   \n",
       "...              ...                        ...               ...   \n",
       "10836       Everyone                  Education     July 25, 2017   \n",
       "10837       Everyone                  Education      July 6, 2018   \n",
       "10838       Everyone                    Medical  January 20, 2017   \n",
       "10839     Mature 17+          Books & Reference  January 19, 2015   \n",
       "10840       Everyone                  Lifestyle     July 25, 2018   \n",
       "\n",
       "              Current Ver         Android Ver  \n",
       "0                   1.0.0        4.0.3 and up  \n",
       "1                   2.0.0        4.0.3 and up  \n",
       "2                   1.2.4        4.0.3 and up  \n",
       "3      Varies with device          4.2 and up  \n",
       "4                     1.1          4.4 and up  \n",
       "...                   ...                 ...  \n",
       "10836                1.48          4.1 and up  \n",
       "10837                 1.0          4.1 and up  \n",
       "10838                 1.0          2.2 and up  \n",
       "10839  Varies with device  Varies with device  \n",
       "10840  Varies with device  Varies with device  \n",
       "\n",
       "[10358 rows x 13 columns]"
      ]
     },
     "metadata": {},
     "output_type": "display_data"
    }
   ],
   "source": [
    "play_store = play_store.drop_duplicates(keep='first')\n",
    "print(\"The number of rows and columns after I removed the duplicates\")\n",
    "print(play_store.shape)\n",
    "display(play_store)\n"
   ]
  },
  {
   "cell_type": "code",
   "execution_count": 7,
   "metadata": {},
   "outputs": [
    {
     "name": "stdout",
     "output_type": "stream",
     "text": [
      "            Rating\n",
      "count  8893.000000\n",
      "mean      4.189542\n",
      "std       0.545452\n",
      "min       1.000000\n",
      "25%       4.000000\n",
      "50%       4.300000\n",
      "75%       4.500000\n",
      "max      19.000000\n"
     ]
    }
   ],
   "source": [
    "# perform summary statistics\n",
    "print(play_store.describe())"
   ]
  },
  {
   "cell_type": "markdown",
   "metadata": {},
   "source": [
    "<center><h1>  Chech the different data of the columns, clean or replace them when necessary"
   ]
  },
  {
   "cell_type": "markdown",
   "metadata": {},
   "source": [
    "<center> I will start with the numerical and the should be numerical columns"
   ]
  },
  {
   "cell_type": "markdown",
   "metadata": {},
   "source": [
    "<center><b>The Installs column"
   ]
  },
  {
   "cell_type": "code",
   "execution_count": 8,
   "metadata": {},
   "outputs": [
    {
     "name": "stdout",
     "output_type": "stream",
     "text": [
      "Find the unique values of the Installs column\n",
      "['0' '0+' '1+' '1,000+' '1,000,000+' '1,000,000,000+' '10+' '10,000+'\n",
      " '10,000,000+' '100+' '100,000+' '100,000,000+' '5+' '5,000+' '5,000,000+'\n",
      " '50+' '50,000+' '50,000,000+' '500+' '500,000+' '500,000,000+' 'Free']\n"
     ]
    }
   ],
   "source": [
    "print(\"Find the unique values of the Installs column\")\n",
    "print(play_store.Installs.sort_values().unique())"
   ]
  },
  {
   "cell_type": "markdown",
   "metadata": {},
   "source": [
    "We can see at the above output that the values are not in a consistent format. Some values have a plus sign while others do not. \n",
    "We need a consistent format for these values in order to effectively use this data.\n",
    "We can convert these values to a numerical format, such as integer, and remove any non-numeric characters like the plus signs.\n",
    "Propably the values '0' and 'Free' are missing vallues, or the '0' it's for zero installs. I am going to live '0' as it is and make changes to the other values. \n",
    "Using the code (play_store['Installs'] == 'Free').sum() I can see that there is only ONE value 'Free'. So I am going to replace it with '0'.\n",
    "Since we don't know the exact numbers, I am rounding the numbers.\n",
    "After that I will convert the column type from oblect into int64."
   ]
  },
  {
   "cell_type": "code",
   "execution_count": 9,
   "metadata": {},
   "outputs": [
    {
     "data": {
      "text/plain": [
       "array([         0,          1,          5,         10,         50,\n",
       "              100,        500,       1000,       5000,      10000,\n",
       "            50000,     100000,     500000,    1000000,    5000000,\n",
       "         10000000,   50000000,  100000000,  500000000, 1000000000],\n",
       "      dtype=int64)"
      ]
     },
     "metadata": {},
     "output_type": "display_data"
    }
   ],
   "source": [
    "#Replace the instances with the correct format\n",
    "replace_dict = {'0':0, 'Free':0, '10,000+':10000, '500,000+':500000, '5,000,000+':5000000, '50,000,000+':50000000, '1,000,000+':1000000, '10,000,000+':10000000, '5,000+':5000, '100,000,000+':100000000, '1,000,000,000+':1000000000, '1,000+':1000, '500,000,000+':500000000, '50+':50, '100+':100, '500+':500, '10+':10, '1+':1, '5+':5, '0+':0, '100,000+':100000, '50,000+':50000}\n",
    "\n",
    "# Replace 'Installs' column elements with corresponding dictionary values using lambda.\n",
    "play_store['Installs'] = play_store['Installs'].replace(replace_dict)\n",
    "\n",
    "#Convert the 'Installs' column to type int64\n",
    "play_store['Installs'] = play_store['Installs'].astype('int64')\n",
    "\n",
    "\n",
    "display(play_store.Installs.sort_values().unique())"
   ]
  },
  {
   "cell_type": "markdown",
   "metadata": {},
   "source": [
    "Perform summary statistics after cleaning the Installs column"
   ]
  },
  {
   "cell_type": "code",
   "execution_count": 10,
   "metadata": {},
   "outputs": [
    {
     "data": {
      "text/html": [
       "<div>\n",
       "<style scoped>\n",
       "    .dataframe tbody tr th:only-of-type {\n",
       "        vertical-align: middle;\n",
       "    }\n",
       "\n",
       "    .dataframe tbody tr th {\n",
       "        vertical-align: top;\n",
       "    }\n",
       "\n",
       "    .dataframe thead th {\n",
       "        text-align: right;\n",
       "    }\n",
       "</style>\n",
       "<table border=\"1\" class=\"dataframe\">\n",
       "  <thead>\n",
       "    <tr style=\"text-align: right;\">\n",
       "      <th></th>\n",
       "      <th>Rating</th>\n",
       "      <th>Installs</th>\n",
       "    </tr>\n",
       "  </thead>\n",
       "  <tbody>\n",
       "    <tr>\n",
       "      <th>count</th>\n",
       "      <td>8893.000000</td>\n",
       "      <td>1.035800e+04</td>\n",
       "    </tr>\n",
       "    <tr>\n",
       "      <th>mean</th>\n",
       "      <td>4.189542</td>\n",
       "      <td>1.415639e+07</td>\n",
       "    </tr>\n",
       "    <tr>\n",
       "      <th>std</th>\n",
       "      <td>0.545452</td>\n",
       "      <td>8.023580e+07</td>\n",
       "    </tr>\n",
       "    <tr>\n",
       "      <th>min</th>\n",
       "      <td>1.000000</td>\n",
       "      <td>0.000000e+00</td>\n",
       "    </tr>\n",
       "    <tr>\n",
       "      <th>25%</th>\n",
       "      <td>4.000000</td>\n",
       "      <td>1.000000e+03</td>\n",
       "    </tr>\n",
       "    <tr>\n",
       "      <th>50%</th>\n",
       "      <td>4.300000</td>\n",
       "      <td>1.000000e+05</td>\n",
       "    </tr>\n",
       "    <tr>\n",
       "      <th>75%</th>\n",
       "      <td>4.500000</td>\n",
       "      <td>1.000000e+06</td>\n",
       "    </tr>\n",
       "    <tr>\n",
       "      <th>max</th>\n",
       "      <td>19.000000</td>\n",
       "      <td>1.000000e+09</td>\n",
       "    </tr>\n",
       "  </tbody>\n",
       "</table>\n",
       "</div>"
      ],
      "text/plain": [
       "            Rating      Installs\n",
       "count  8893.000000  1.035800e+04\n",
       "mean      4.189542  1.415639e+07\n",
       "std       0.545452  8.023580e+07\n",
       "min       1.000000  0.000000e+00\n",
       "25%       4.000000  1.000000e+03\n",
       "50%       4.300000  1.000000e+05\n",
       "75%       4.500000  1.000000e+06\n",
       "max      19.000000  1.000000e+09"
      ]
     },
     "metadata": {},
     "output_type": "display_data"
    }
   ],
   "source": [
    "display(play_store.describe())"
   ]
  },
  {
   "cell_type": "markdown",
   "metadata": {},
   "source": [
    "<center><b>The Price column"
   ]
  },
  {
   "cell_type": "code",
   "execution_count": 11,
   "metadata": {},
   "outputs": [
    {
     "name": "stdout",
     "output_type": "stream",
     "text": [
      "Find the unique values of the Price column\n",
      "['$0.99' '$1.00' '$1.04' '$1.20' '$1.26' '$1.29' '$1.49' '$1.50' '$1.59'\n",
      " '$1.61' '$1.70' '$1.75' '$1.76' '$1.96' '$1.97' '$1.99' '$10.00' '$10.99'\n",
      " '$109.99' '$11.99' '$12.99' '$13.99' '$14.00' '$14.99' '$15.46' '$15.99'\n",
      " '$154.99' '$16.99' '$17.99' '$18.99' '$19.40' '$19.90' '$19.99' '$2.00'\n",
      " '$2.49' '$2.50' '$2.56' '$2.59' '$2.60' '$2.90' '$2.95' '$2.99' '$200.00'\n",
      " '$24.99' '$25.99' '$28.99' '$29.99' '$299.99' '$3.02' '$3.04' '$3.08'\n",
      " '$3.28' '$3.49' '$3.61' '$3.88' '$3.90' '$3.95' '$3.99' '$30.99' '$33.99'\n",
      " '$37.99' '$379.99' '$389.99' '$39.99' '$394.99' '$399.99' '$4.29' '$4.49'\n",
      " '$4.59' '$4.60' '$4.77' '$4.80' '$4.84' '$4.85' '$4.99' '$400.00'\n",
      " '$46.99' '$5.00' '$5.49' '$5.99' '$6.49' '$6.99' '$7.49' '$7.99' '$74.99'\n",
      " '$79.99' '$8.49' '$8.99' '$89.99' '$9.00' '$9.99' '0' 'Everyone']\n"
     ]
    }
   ],
   "source": [
    "print(\"Find the unique values of the Price column\")\n",
    "print(play_store.Price.sort_values().unique())\n"
   ]
  },
  {
   "cell_type": "markdown",
   "metadata": {},
   "source": [
    "We can see at the above output that the values are not in a consistent format. Some values have a dollar sign while others do not. \n",
    "We can convert these values to a numerical format, such as float, and remove any non-numeric characters like the dollar signs.\n",
    "Propably the values '0' and 'Everyone' are missing vallues, or the '0' it's for free price. I am going to live '0' as it is and make changes to the other values. \n",
    "Using the code (play_store['Price'] == 'Everyone').sum() I can see that there is only one value 'Everyone'. By using the play_store.Price.value_counts(), we can see that the 0 apeers most in our DataFame,  so I am going to replace the 'Everyone' with '0'."
   ]
  },
  {
   "cell_type": "code",
   "execution_count": 12,
   "metadata": {},
   "outputs": [
    {
     "name": "stderr",
     "output_type": "stream",
     "text": [
      "C:\\Users\\Christos\\AppData\\Local\\Temp\\ipykernel_5224\\4138016179.py:2: FutureWarning: The default value of regex will change from True to False in a future version. In addition, single character regular expressions will *not* be treated as literal strings when regex=True.\n",
      "  play_store['Price'] = play_store['Price'].str.replace('$','')\n"
     ]
    }
   ],
   "source": [
    "# First, replace all dollar signs with empty strings. ERROR\n",
    "play_store['Price'] = play_store['Price'].str.replace('$','')"
   ]
  },
  {
   "cell_type": "code",
   "execution_count": 13,
   "metadata": {},
   "outputs": [],
   "source": [
    "# First, replace all dollar signs with empty strings\n",
    "play_store['Price'] = play_store['Price'].str.replace('$','',regex=True)"
   ]
  },
  {
   "cell_type": "code",
   "execution_count": 14,
   "metadata": {},
   "outputs": [],
   "source": [
    "# Second, replace the 'Everyone' with '0'\n",
    "play_store['Price'] = play_store['Price'].str.replace('Everyone','0')\n",
    "# Third, change the data type to float\n",
    "play_store['Price'] = play_store['Price'].astype(float)"
   ]
  },
  {
   "cell_type": "code",
   "execution_count": 15,
   "metadata": {},
   "outputs": [
    {
     "name": "stdout",
     "output_type": "stream",
     "text": [
      "Find the unique values of the Price column, after the cleaning\n",
      "\n",
      "[  0.     0.99   1.     1.04   1.2    1.26   1.29   1.49   1.5    1.59\n",
      "   1.61   1.7    1.75   1.76   1.96   1.97   1.99   2.     2.49   2.5\n",
      "   2.56   2.59   2.6    2.9    2.95   2.99   3.02   3.04   3.08   3.28\n",
      "   3.49   3.61   3.88   3.9    3.95   3.99   4.29   4.49   4.59   4.6\n",
      "   4.77   4.8    4.84   4.85   4.99   5.     5.49   5.99   6.49   6.99\n",
      "   7.49   7.99   8.49   8.99   9.     9.99  10.    10.99  11.99  12.99\n",
      "  13.99  14.    14.99  15.46  15.99  16.99  17.99  18.99  19.4   19.9\n",
      "  19.99  24.99  25.99  28.99  29.99  30.99  33.99  37.99  39.99  46.99\n",
      "  74.99  79.99  89.99 109.99 154.99 200.   299.99 379.99 389.99 394.99\n",
      " 399.99 400.  ]\n"
     ]
    }
   ],
   "source": [
    "print(\"Find the unique values of the Price column, after the cleaning\")\n",
    "print(\"\")\n",
    "print(play_store.Price.sort_values().unique())"
   ]
  },
  {
   "cell_type": "code",
   "execution_count": 16,
   "metadata": {},
   "outputs": [
    {
     "data": {
      "text/html": [
       "<div>\n",
       "<style scoped>\n",
       "    .dataframe tbody tr th:only-of-type {\n",
       "        vertical-align: middle;\n",
       "    }\n",
       "\n",
       "    .dataframe tbody tr th {\n",
       "        vertical-align: top;\n",
       "    }\n",
       "\n",
       "    .dataframe thead th {\n",
       "        text-align: right;\n",
       "    }\n",
       "</style>\n",
       "<table border=\"1\" class=\"dataframe\">\n",
       "  <thead>\n",
       "    <tr style=\"text-align: right;\">\n",
       "      <th></th>\n",
       "      <th>Rating</th>\n",
       "      <th>Installs</th>\n",
       "      <th>Price</th>\n",
       "    </tr>\n",
       "  </thead>\n",
       "  <tbody>\n",
       "    <tr>\n",
       "      <th>count</th>\n",
       "      <td>8893.000000</td>\n",
       "      <td>1.035800e+04</td>\n",
       "      <td>10358.000000</td>\n",
       "    </tr>\n",
       "    <tr>\n",
       "      <th>mean</th>\n",
       "      <td>4.189542</td>\n",
       "      <td>1.415639e+07</td>\n",
       "      <td>1.030701</td>\n",
       "    </tr>\n",
       "    <tr>\n",
       "      <th>std</th>\n",
       "      <td>0.545452</td>\n",
       "      <td>8.023580e+07</td>\n",
       "      <td>16.277843</td>\n",
       "    </tr>\n",
       "    <tr>\n",
       "      <th>min</th>\n",
       "      <td>1.000000</td>\n",
       "      <td>0.000000e+00</td>\n",
       "      <td>0.000000</td>\n",
       "    </tr>\n",
       "    <tr>\n",
       "      <th>25%</th>\n",
       "      <td>4.000000</td>\n",
       "      <td>1.000000e+03</td>\n",
       "      <td>0.000000</td>\n",
       "    </tr>\n",
       "    <tr>\n",
       "      <th>50%</th>\n",
       "      <td>4.300000</td>\n",
       "      <td>1.000000e+05</td>\n",
       "      <td>0.000000</td>\n",
       "    </tr>\n",
       "    <tr>\n",
       "      <th>75%</th>\n",
       "      <td>4.500000</td>\n",
       "      <td>1.000000e+06</td>\n",
       "      <td>0.000000</td>\n",
       "    </tr>\n",
       "    <tr>\n",
       "      <th>max</th>\n",
       "      <td>19.000000</td>\n",
       "      <td>1.000000e+09</td>\n",
       "      <td>400.000000</td>\n",
       "    </tr>\n",
       "  </tbody>\n",
       "</table>\n",
       "</div>"
      ],
      "text/plain": [
       "            Rating      Installs         Price\n",
       "count  8893.000000  1.035800e+04  10358.000000\n",
       "mean      4.189542  1.415639e+07      1.030701\n",
       "std       0.545452  8.023580e+07     16.277843\n",
       "min       1.000000  0.000000e+00      0.000000\n",
       "25%       4.000000  1.000000e+03      0.000000\n",
       "50%       4.300000  1.000000e+05      0.000000\n",
       "75%       4.500000  1.000000e+06      0.000000\n",
       "max      19.000000  1.000000e+09    400.000000"
      ]
     },
     "metadata": {},
     "output_type": "display_data"
    }
   ],
   "source": [
    "# perform summary statistics after cleaning the Installs and the Price column\n",
    "display(play_store.describe())"
   ]
  },
  {
   "cell_type": "markdown",
   "metadata": {},
   "source": [
    "<center><b>The Rating column"
   ]
  },
  {
   "cell_type": "code",
   "execution_count": 17,
   "metadata": {},
   "outputs": [
    {
     "name": "stdout",
     "output_type": "stream",
     "text": [
      "The unique values of the Rating column\n",
      "[ 1.   1.2  1.4  1.5  1.6  1.7  1.8  1.9  2.   2.1  2.2  2.3  2.4  2.5\n",
      "  2.6  2.7  2.8  2.9  3.   3.1  3.2  3.3  3.4  3.5  3.6  3.7  3.8  3.9\n",
      "  4.   4.1  4.2  4.3  4.4  4.5  4.6  4.7  4.8  4.9  5.  19.   nan]\n"
     ]
    }
   ],
   "source": [
    "print(\"The unique values of the Rating column\")\n",
    "print(play_store.Rating.sort_values().unique())"
   ]
  },
  {
   "cell_type": "markdown",
   "metadata": {},
   "source": [
    "We can see at the above output that the values are not in a consistent format. Some values have a dollar sign while others do not. \n",
    "We can convert these values to a numerical format, such as float, and remove any non-numeric characters like the dollar signs.\n",
    "Propably the values '0' and 'Everyone' are missing vallues, or the '0' it's for free price. I am going to live '0' as it is and make changes to the other values. \n",
    "Using the code print(play_store.Rating.isnull().sum()) I can see that there are 1464 null values. Because there are a lot and I don't want to remove/delete them I will replave the null values with the mean of the Rating column."
   ]
  },
  {
   "cell_type": "code",
   "execution_count": 18,
   "metadata": {},
   "outputs": [],
   "source": [
    "# print(play_store.Rating.value_counts())\n",
    "# Replaced the null values with the mean value.\n",
    "mean_rating = play_store['Rating'].mean()\n",
    "play_store['Rating'] = play_store['Rating'].fillna(mean_rating)\n",
    "\n",
    "# Replace instances with the correct values.\n",
    "play_store['Rating'] = play_store['Rating'].replace(19., 1.9)\n"
   ]
  },
  {
   "cell_type": "code",
   "execution_count": 19,
   "metadata": {},
   "outputs": [
    {
     "name": "stdout",
     "output_type": "stream",
     "text": [
      "The unique values of the Rating column after the cleaning, are\n",
      "[1.         1.2        1.4        1.5        1.6        1.7\n",
      " 1.8        1.9        2.         2.1        2.2        2.3\n",
      " 2.4        2.5        2.6        2.7        2.8        2.9\n",
      " 3.         3.1        3.2        3.3        3.4        3.5\n",
      " 3.6        3.7        3.8        3.9        4.         4.1\n",
      " 4.18954234 4.2        4.3        4.4        4.5        4.6\n",
      " 4.7        4.8        4.9        5.        ]\n"
     ]
    }
   ],
   "source": [
    "print(\"The unique values of the Rating column after the cleaning, are\")\n",
    "print(play_store.Rating.sort_values().unique())"
   ]
  },
  {
   "cell_type": "code",
   "execution_count": 20,
   "metadata": {},
   "outputs": [
    {
     "data": {
      "text/html": [
       "<div>\n",
       "<style scoped>\n",
       "    .dataframe tbody tr th:only-of-type {\n",
       "        vertical-align: middle;\n",
       "    }\n",
       "\n",
       "    .dataframe tbody tr th {\n",
       "        vertical-align: top;\n",
       "    }\n",
       "\n",
       "    .dataframe thead th {\n",
       "        text-align: right;\n",
       "    }\n",
       "</style>\n",
       "<table border=\"1\" class=\"dataframe\">\n",
       "  <thead>\n",
       "    <tr style=\"text-align: right;\">\n",
       "      <th></th>\n",
       "      <th>Rating</th>\n",
       "      <th>Installs</th>\n",
       "      <th>Price</th>\n",
       "    </tr>\n",
       "  </thead>\n",
       "  <tbody>\n",
       "    <tr>\n",
       "      <th>count</th>\n",
       "      <td>10358.000000</td>\n",
       "      <td>1.035800e+04</td>\n",
       "      <td>10358.000000</td>\n",
       "    </tr>\n",
       "    <tr>\n",
       "      <th>mean</th>\n",
       "      <td>4.187891</td>\n",
       "      <td>1.415639e+07</td>\n",
       "      <td>1.030701</td>\n",
       "    </tr>\n",
       "    <tr>\n",
       "      <th>std</th>\n",
       "      <td>0.484519</td>\n",
       "      <td>8.023580e+07</td>\n",
       "      <td>16.277843</td>\n",
       "    </tr>\n",
       "    <tr>\n",
       "      <th>min</th>\n",
       "      <td>1.000000</td>\n",
       "      <td>0.000000e+00</td>\n",
       "      <td>0.000000</td>\n",
       "    </tr>\n",
       "    <tr>\n",
       "      <th>25%</th>\n",
       "      <td>4.100000</td>\n",
       "      <td>1.000000e+03</td>\n",
       "      <td>0.000000</td>\n",
       "    </tr>\n",
       "    <tr>\n",
       "      <th>50%</th>\n",
       "      <td>4.200000</td>\n",
       "      <td>1.000000e+05</td>\n",
       "      <td>0.000000</td>\n",
       "    </tr>\n",
       "    <tr>\n",
       "      <th>75%</th>\n",
       "      <td>4.500000</td>\n",
       "      <td>1.000000e+06</td>\n",
       "      <td>0.000000</td>\n",
       "    </tr>\n",
       "    <tr>\n",
       "      <th>max</th>\n",
       "      <td>5.000000</td>\n",
       "      <td>1.000000e+09</td>\n",
       "      <td>400.000000</td>\n",
       "    </tr>\n",
       "  </tbody>\n",
       "</table>\n",
       "</div>"
      ],
      "text/plain": [
       "             Rating      Installs         Price\n",
       "count  10358.000000  1.035800e+04  10358.000000\n",
       "mean       4.187891  1.415639e+07      1.030701\n",
       "std        0.484519  8.023580e+07     16.277843\n",
       "min        1.000000  0.000000e+00      0.000000\n",
       "25%        4.100000  1.000000e+03      0.000000\n",
       "50%        4.200000  1.000000e+05      0.000000\n",
       "75%        4.500000  1.000000e+06      0.000000\n",
       "max        5.000000  1.000000e+09    400.000000"
      ]
     },
     "metadata": {},
     "output_type": "display_data"
    }
   ],
   "source": [
    "# perform summary statistics after cleaning the Installs, the Price and the Rating  column\n",
    "display(play_store.describe())"
   ]
  },
  {
   "cell_type": "markdown",
   "metadata": {},
   "source": [
    "<center><B>The Reviews column"
   ]
  },
  {
   "cell_type": "markdown",
   "metadata": {},
   "source": [
    "As we saw at the beginig, the Reviews column has object as it's data type, and we should convert it into int, so that we can perform analysis on it.\n",
    "Using the print(play_store.Reviews.sort_values().unique()) we can see that most of the values are in the same format, except one that we found it through an error.\n",
    "We found the 3.0M because there was as an error when we tried to change the data type. So we will replace the 3.0M with 3000000 and after that convert the data type to integer."
   ]
  },
  {
   "cell_type": "code",
   "execution_count": 21,
   "metadata": {},
   "outputs": [
    {
     "name": "stdout",
     "output_type": "stream",
     "text": [
      "These are the unique values of the Reviews column before the convertion\n",
      "['0' '1' '10' ... '9975' '999' '9992']\n",
      "These are the unique values of the Reviews column after the replaces and the change of type\n",
      "[       0        1        2 ... 69119316 78128208 78158306]\n"
     ]
    }
   ],
   "source": [
    "print(\"These are the unique values of the Reviews column before the convertion\")\n",
    "print(play_store.Reviews.sort_values().unique())\n",
    "\n",
    "#replace the instances with the correct values\n",
    "play_store['Reviews'] = play_store['Reviews'].replace('3.0M', 3000000)\n",
    "\n",
    "#convert the values of the Reviews column into integers\n",
    "play_store[\"Reviews\"] = play_store[\"Reviews\"].astype(int)\n",
    "\n",
    "print(\"These are the unique values of the Reviews column after the replaces and the change of type\")\n",
    "print(play_store.Reviews.sort_values().unique())\n",
    "\n",
    "#reviews = play_store[\"Total_Reviews\"]\n",
    "#reviews_set = set(reviews)\n",
    "#print(reviews_set)\n",
    "#print(len(reviews_set))"
   ]
  },
  {
   "cell_type": "code",
   "execution_count": 22,
   "metadata": {},
   "outputs": [
    {
     "name": "stdout",
     "output_type": "stream",
     "text": [
      "             Rating       Reviews      Installs         Price\n",
      "count  10358.000000  1.035800e+04  1.035800e+04  10358.000000\n",
      "mean       4.187891  4.061551e+05  1.415639e+07      1.030701\n",
      "std        0.484519  2.696768e+06  8.023580e+07     16.277843\n",
      "min        1.000000  0.000000e+00  0.000000e+00      0.000000\n",
      "25%        4.100000  3.200000e+01  1.000000e+03      0.000000\n",
      "50%        4.200000  1.683000e+03  1.000000e+05      0.000000\n",
      "75%        4.500000  4.648275e+04  1.000000e+06      0.000000\n",
      "max        5.000000  7.815831e+07  1.000000e+09    400.000000\n"
     ]
    }
   ],
   "source": [
    "# perform summary statistics after cleaning the Installs, the Price, the Rating and the Reviews column\n",
    "print(play_store.describe())"
   ]
  },
  {
   "cell_type": "markdown",
   "metadata": {},
   "source": [
    "<center><B>The Type column"
   ]
  },
  {
   "cell_type": "code",
   "execution_count": 23,
   "metadata": {},
   "outputs": [
    {
     "name": "stdout",
     "output_type": "stream",
     "text": [
      "Free    9591\n",
      "Paid     765\n",
      "0          1\n",
      "Name: Type, dtype: int64\n"
     ]
    }
   ],
   "source": [
    "# the number of unique values\n",
    "print(play_store.Type.value_counts())"
   ]
  },
  {
   "cell_type": "code",
   "execution_count": 24,
   "metadata": {},
   "outputs": [],
   "source": [
    "#Replace instances.\n",
    "play_store['Type'] = play_store['Type'].replace(\"0\", \"Free\")"
   ]
  },
  {
   "cell_type": "code",
   "execution_count": 25,
   "metadata": {},
   "outputs": [
    {
     "name": "stdout",
     "output_type": "stream",
     "text": [
      "Free    9592\n",
      "Paid     765\n",
      "Name: Type, dtype: int64\n"
     ]
    }
   ],
   "source": [
    "# the number of unique values\n",
    "print(play_store.Type.value_counts())"
   ]
  },
  {
   "cell_type": "markdown",
   "metadata": {},
   "source": [
    "<center><B>The Size column"
   ]
  },
  {
   "cell_type": "markdown",
   "metadata": {},
   "source": [
    "needs more work!!"
   ]
  },
  {
   "cell_type": "code",
   "execution_count": 26,
   "metadata": {},
   "outputs": [
    {
     "name": "stdout",
     "output_type": "stream",
     "text": [
      "The total null values in the Size column is, \n",
      "0\n",
      "The first 15 unique values in the Size column, before the cleaning are, \n",
      "['1,000+' '1.0M' '1.1M' '1.2M' '1.3M' '1.4M' '1.5M' '1.6M' '1.7M' '1.8M'\n",
      " '1.9M' '10.0M' '100M' '1020k' '103k']\n"
     ]
    }
   ],
   "source": [
    "print(\"The total null values in the Size column is, \")\n",
    "print(play_store.Size.isnull().sum())\n",
    "\n",
    "print(\"The first 15 unique values in the Size column, before the cleaning are, \")\n",
    "print(play_store.Size.sort_values().unique()[:15])"
   ]
  },
  {
   "cell_type": "markdown",
   "metadata": {},
   "source": [
    "<b>\n",
    "Question -> \n",
    "How can I handle inconsistent formatting like that?"
   ]
  },
  {
   "cell_type": "markdown",
   "metadata": {},
   "source": [
    "Answer->\n",
    "Maybe using the:\n",
    "\n",
    "import regex as re\n",
    "re.replace(r'd', 'o' , 'Hello W0rld')\n",
    "\n",
    "import regex as re\n",
    "re.sub(r'\\d', 'o' , 'Hello W0rld')"
   ]
  },
  {
   "cell_type": "code",
   "execution_count": 27,
   "metadata": {},
   "outputs": [],
   "source": [
    "#The value \"Varies with device\" does not give any useful information about the size of the app and it's better to remove or replace it with a default value.\n",
    "play_store['Size'] = play_store['Size'].replace('Varies with device', 'NaN')"
   ]
  },
  {
   "cell_type": "code",
   "execution_count": 28,
   "metadata": {},
   "outputs": [],
   "source": [
    "# Convert the 'Size' column to type integer\n",
    "# play_store['Size'] = play_store['Size'].astype('int64')\n",
    "# how can i convert the different non numerical values into the correvt numerical?"
   ]
  },
  {
   "cell_type": "markdown",
   "metadata": {},
   "source": [
    "<center><b>The Last Updated column"
   ]
  },
  {
   "cell_type": "markdown",
   "metadata": {},
   "source": [
    "needs more work!!"
   ]
  },
  {
   "cell_type": "code",
   "execution_count": 29,
   "metadata": {},
   "outputs": [
    {
     "name": "stdout",
     "output_type": "stream",
     "text": [
      "Find the unique values of the Last Updated column\n",
      "['1.0.19', 'April 1, 2016', 'April 1, 2017', 'April 1, 2018', 'April 10, 2013', 'April 10, 2014', 'April 10, 2015', 'April 10, 2016', 'April 10, 2017', 'April 10, 2018', 'April 11, 2011', 'April 11, 2014', 'April 11, 2016', 'April 11, 2017', 'April 11, 2018', 'April 12, 2016', 'April 12, 2017', 'April 12, 2018', 'April 13, 2014', 'April 13, 2016']\n"
     ]
    }
   ],
   "source": [
    "print(\"Find the unique values of the Last Updated column\")\n",
    "\n",
    "print(sorted(play_store['Last Updated'].sort_values().unique())[:20])\n"
   ]
  },
  {
   "cell_type": "code",
   "execution_count": 30,
   "metadata": {},
   "outputs": [
    {
     "name": "stdout",
     "output_type": "stream",
     "text": [
      "['April 1, 20161', 'April 1, 20171', 'April 1, 20181', 'April 10, 20131', 'April 10, 20141', 'April 10, 20151', 'April 10, 20161', 'April 10, 20171', 'April 10, 20181', 'April 11, 20111', 'April 11, 20141', 'April 11, 20161', 'April 11, 20171', 'April 11, 20181', 'April 12, 20161']\n"
     ]
    }
   ],
   "source": [
    "#hint, not the solution\n",
    "\n",
    "l = ['April 1, 2016', 'April 1, 2017', 'April 1, 2018', 'April 10, 2013', 'April 10, 2014', 'April 10, 2015', 'April 10, 2016', 'April 10, 2017', 'April 10, 2018', 'April 11, 2011', 'April 11, 2014', 'April 11, 2016', 'April 11, 2017', 'April 11, 2018', 'April 12, 2016']\n",
    "l_2 = []\n",
    "for n in l:\n",
    "    l_2.append(n + str(1))\n",
    "\n",
    "print(l_2)\n"
   ]
  },
  {
   "cell_type": "code",
   "execution_count": 31,
   "metadata": {},
   "outputs": [
    {
     "data": {
      "text/plain": [
       "[2, 3, 4]"
      ]
     },
     "execution_count": 31,
     "metadata": {},
     "output_type": "execute_result"
    }
   ],
   "source": [
    "#hint, not the solution\n",
    "\n",
    "list(map(lambda element: element + 1, [1,2,3]))"
   ]
  },
  {
   "cell_type": "markdown",
   "metadata": {},
   "source": [
    "<center><b><h1> Find the top 3 Apps based on their installations"
   ]
  },
  {
   "cell_type": "code",
   "execution_count": 32,
   "metadata": {},
   "outputs": [
    {
     "name": "stdout",
     "output_type": "stream",
     "text": [
      "1st way to find the top 3\n"
     ]
    },
    {
     "data": {
      "text/html": [
       "<div>\n",
       "<style scoped>\n",
       "    .dataframe tbody tr th:only-of-type {\n",
       "        vertical-align: middle;\n",
       "    }\n",
       "\n",
       "    .dataframe tbody tr th {\n",
       "        vertical-align: top;\n",
       "    }\n",
       "\n",
       "    .dataframe thead th {\n",
       "        text-align: right;\n",
       "    }\n",
       "</style>\n",
       "<table border=\"1\" class=\"dataframe\">\n",
       "  <thead>\n",
       "    <tr style=\"text-align: right;\">\n",
       "      <th></th>\n",
       "      <th>App</th>\n",
       "      <th>Category</th>\n",
       "      <th>Rating</th>\n",
       "      <th>Reviews</th>\n",
       "      <th>Size</th>\n",
       "      <th>Installs</th>\n",
       "      <th>Type</th>\n",
       "      <th>Price</th>\n",
       "      <th>Content Rating</th>\n",
       "      <th>Genres</th>\n",
       "      <th>Last Updated</th>\n",
       "      <th>Current Ver</th>\n",
       "      <th>Android Ver</th>\n",
       "    </tr>\n",
       "  </thead>\n",
       "  <tbody>\n",
       "    <tr>\n",
       "      <th>152</th>\n",
       "      <td>Google Play Books</td>\n",
       "      <td>BOOKS_AND_REFERENCE</td>\n",
       "      <td>3.9</td>\n",
       "      <td>1433233</td>\n",
       "      <td>NaN</td>\n",
       "      <td>1000000000</td>\n",
       "      <td>Free</td>\n",
       "      <td>0.0</td>\n",
       "      <td>Teen</td>\n",
       "      <td>Books &amp; Reference</td>\n",
       "      <td>August 3, 2018</td>\n",
       "      <td>Varies with device</td>\n",
       "      <td>Varies with device</td>\n",
       "    </tr>\n",
       "    <tr>\n",
       "      <th>335</th>\n",
       "      <td>Messenger – Text and Video Chat for Free</td>\n",
       "      <td>COMMUNICATION</td>\n",
       "      <td>4.0</td>\n",
       "      <td>56642847</td>\n",
       "      <td>NaN</td>\n",
       "      <td>1000000000</td>\n",
       "      <td>Free</td>\n",
       "      <td>0.0</td>\n",
       "      <td>Everyone</td>\n",
       "      <td>Communication</td>\n",
       "      <td>August 1, 2018</td>\n",
       "      <td>Varies with device</td>\n",
       "      <td>Varies with device</td>\n",
       "    </tr>\n",
       "    <tr>\n",
       "      <th>336</th>\n",
       "      <td>WhatsApp Messenger</td>\n",
       "      <td>COMMUNICATION</td>\n",
       "      <td>4.4</td>\n",
       "      <td>69119316</td>\n",
       "      <td>NaN</td>\n",
       "      <td>1000000000</td>\n",
       "      <td>Free</td>\n",
       "      <td>0.0</td>\n",
       "      <td>Everyone</td>\n",
       "      <td>Communication</td>\n",
       "      <td>August 3, 2018</td>\n",
       "      <td>Varies with device</td>\n",
       "      <td>Varies with device</td>\n",
       "    </tr>\n",
       "  </tbody>\n",
       "</table>\n",
       "</div>"
      ],
      "text/plain": [
       "                                          App             Category  Rating  \\\n",
       "152                         Google Play Books  BOOKS_AND_REFERENCE     3.9   \n",
       "335  Messenger – Text and Video Chat for Free        COMMUNICATION     4.0   \n",
       "336                        WhatsApp Messenger        COMMUNICATION     4.4   \n",
       "\n",
       "      Reviews Size    Installs  Type  Price Content Rating             Genres  \\\n",
       "152   1433233  NaN  1000000000  Free    0.0           Teen  Books & Reference   \n",
       "335  56642847  NaN  1000000000  Free    0.0       Everyone      Communication   \n",
       "336  69119316  NaN  1000000000  Free    0.0       Everyone      Communication   \n",
       "\n",
       "       Last Updated         Current Ver         Android Ver  \n",
       "152  August 3, 2018  Varies with device  Varies with device  \n",
       "335  August 1, 2018  Varies with device  Varies with device  \n",
       "336  August 3, 2018  Varies with device  Varies with device  "
      ]
     },
     "metadata": {},
     "output_type": "display_data"
    },
    {
     "name": "stdout",
     "output_type": "stream",
     "text": [
      "2nd way to find the top 3\n"
     ]
    },
    {
     "data": {
      "text/html": [
       "<div>\n",
       "<style scoped>\n",
       "    .dataframe tbody tr th:only-of-type {\n",
       "        vertical-align: middle;\n",
       "    }\n",
       "\n",
       "    .dataframe tbody tr th {\n",
       "        vertical-align: top;\n",
       "    }\n",
       "\n",
       "    .dataframe thead th {\n",
       "        text-align: right;\n",
       "    }\n",
       "</style>\n",
       "<table border=\"1\" class=\"dataframe\">\n",
       "  <thead>\n",
       "    <tr style=\"text-align: right;\">\n",
       "      <th></th>\n",
       "      <th>App</th>\n",
       "      <th>Category</th>\n",
       "      <th>Rating</th>\n",
       "      <th>Reviews</th>\n",
       "      <th>Size</th>\n",
       "      <th>Installs</th>\n",
       "      <th>Type</th>\n",
       "      <th>Price</th>\n",
       "      <th>Content Rating</th>\n",
       "      <th>Genres</th>\n",
       "      <th>Last Updated</th>\n",
       "      <th>Current Ver</th>\n",
       "      <th>Android Ver</th>\n",
       "    </tr>\n",
       "  </thead>\n",
       "  <tbody>\n",
       "    <tr>\n",
       "      <th>5856</th>\n",
       "      <td>Google Play Games</td>\n",
       "      <td>FAMILY</td>\n",
       "      <td>4.3</td>\n",
       "      <td>7168735</td>\n",
       "      <td>NaN</td>\n",
       "      <td>1000000000</td>\n",
       "      <td>Free</td>\n",
       "      <td>0.0</td>\n",
       "      <td>Teen</td>\n",
       "      <td>Entertainment</td>\n",
       "      <td>July 16, 2018</td>\n",
       "      <td>Varies with device</td>\n",
       "      <td>Varies with device</td>\n",
       "    </tr>\n",
       "    <tr>\n",
       "      <th>4098</th>\n",
       "      <td>Maps - Navigate &amp; Explore</td>\n",
       "      <td>TRAVEL_AND_LOCAL</td>\n",
       "      <td>4.3</td>\n",
       "      <td>9231613</td>\n",
       "      <td>NaN</td>\n",
       "      <td>1000000000</td>\n",
       "      <td>Free</td>\n",
       "      <td>0.0</td>\n",
       "      <td>Everyone</td>\n",
       "      <td>Travel &amp; Local</td>\n",
       "      <td>July 31, 2018</td>\n",
       "      <td>Varies with device</td>\n",
       "      <td>Varies with device</td>\n",
       "    </tr>\n",
       "    <tr>\n",
       "      <th>4150</th>\n",
       "      <td>Google</td>\n",
       "      <td>TOOLS</td>\n",
       "      <td>4.4</td>\n",
       "      <td>8021623</td>\n",
       "      <td>NaN</td>\n",
       "      <td>1000000000</td>\n",
       "      <td>Free</td>\n",
       "      <td>0.0</td>\n",
       "      <td>Everyone</td>\n",
       "      <td>Tools</td>\n",
       "      <td>August 3, 2018</td>\n",
       "      <td>Varies with device</td>\n",
       "      <td>Varies with device</td>\n",
       "    </tr>\n",
       "  </tbody>\n",
       "</table>\n",
       "</div>"
      ],
      "text/plain": [
       "                            App          Category  Rating  Reviews Size  \\\n",
       "5856          Google Play Games            FAMILY     4.3  7168735  NaN   \n",
       "4098  Maps - Navigate & Explore  TRAVEL_AND_LOCAL     4.3  9231613  NaN   \n",
       "4150                     Google             TOOLS     4.4  8021623  NaN   \n",
       "\n",
       "        Installs  Type  Price Content Rating          Genres    Last Updated  \\\n",
       "5856  1000000000  Free    0.0           Teen   Entertainment   July 16, 2018   \n",
       "4098  1000000000  Free    0.0       Everyone  Travel & Local   July 31, 2018   \n",
       "4150  1000000000  Free    0.0       Everyone           Tools  August 3, 2018   \n",
       "\n",
       "             Current Ver         Android Ver  \n",
       "5856  Varies with device  Varies with device  \n",
       "4098  Varies with device  Varies with device  \n",
       "4150  Varies with device  Varies with device  "
      ]
     },
     "metadata": {},
     "output_type": "display_data"
    }
   ],
   "source": [
    "print('1st way to find the top 3')\n",
    "top_3_apps1 = play_store.nlargest(3, 'Installs')\n",
    "display(top_3_apps1)\n",
    "\n",
    "print('2nd way to find the top 3')\n",
    "top_3_apps2 = play_store.sort_values('Installs', ascending=False).head(3)\n",
    "display(top_3_apps2)"
   ]
  },
  {
   "cell_type": "code",
   "execution_count": 34,
   "metadata": {},
   "outputs": [
    {
     "data": {
      "image/png": "[encoded data removed]",
      "text/plain": [
       "<Figure size 640x480 with 1 Axes>"
      ]
     },
     "metadata": {},
     "output_type": "display_data"
    }
   ],
   "source": [
    "installs = top_3_apps1['Installs']\n",
    "app_names = top_3_apps1['App']\n",
    "\n",
    "plt.bar(app_names, installs, color='#B852AA')\n",
    "\n",
    "\n",
    "# Add labels to the x and y axes\n",
    "plt.xlabel('Application\\'s Name')\n",
    "plt.ylabel('Installs in millions')\n",
    "\n",
    "plt.title('Top 3 Apps, based on their Installations')\n",
    "\n",
    "plt.xticks(rotation=9)\n",
    "\n",
    "\n",
    "plt.yscale('log')\n",
    "\n",
    "plt.show()\n"
   ]
  },
  {
   "cell_type": "markdown",
   "metadata": {},
   "source": [
    "The above chart displays the top 3 apps based on their number of installations in millions. On the x-axis, we have the names of the 3 apps and on the y-axis, we have the number of installations in millions. As seen from the chart, all 3 apps have exceeded the 1 million installations. "
   ]
  },
  {
   "cell_type": "markdown",
   "metadata": {},
   "source": [
    "<center><B>Second week:"
   ]
  },
  {
   "cell_type": "markdown",
   "metadata": {},
   "source": [
    "1- Display (table) the unique names of all categories \n",
    "    \n",
    "2- Plot a bar chart for categories with the total number of installing numbers in each category \n",
    "    \n",
    "3- Plot a bar chart for the total prices of each paid app in each category ( the sum of all prices in the same category)\n",
    "    \n",
    "4- Plot a bar chart of the total profit of each category by multiplying the price by the number of installs\n"
   ]
  },
  {
   "cell_type": "code",
   "execution_count": 35,
   "metadata": {},
   "outputs": [
    {
     "data": {
      "text/plain": [
       "array(['ART_AND_DESIGN', 'AUTO_AND_VEHICLES', 'BEAUTY',\n",
       "       'BOOKS_AND_REFERENCE', 'BUSINESS', 'COMICS', 'COMMUNICATION',\n",
       "       'DATING', 'EDUCATION', 'ENTERTAINMENT', 'EVENTS', 'FINANCE',\n",
       "       'FOOD_AND_DRINK', 'HEALTH_AND_FITNESS', 'HOUSE_AND_HOME',\n",
       "       'LIBRARIES_AND_DEMO', 'LIFESTYLE', 'GAME', 'FAMILY', 'MEDICAL',\n",
       "       'SOCIAL', 'SHOPPING', 'PHOTOGRAPHY', 'SPORTS', 'TRAVEL_AND_LOCAL',\n",
       "       'TOOLS', 'PERSONALIZATION', 'PRODUCTIVITY', 'PARENTING', 'WEATHER',\n",
       "       'VIDEO_PLAYERS', 'NEWS_AND_MAGAZINES', 'MAPS_AND_NAVIGATION',\n",
       "       '1.9'], dtype=object)"
      ]
     },
     "metadata": {},
     "output_type": "display_data"
    }
   ],
   "source": [
    "#Display (table) the unique names of all categories\n",
    "\n",
    "display(play_store['Category'].unique())"
   ]
  },
  {
   "cell_type": "code",
   "execution_count": 38,
   "metadata": {},
   "outputs": [
    {
     "data": {
      "image/png": "[encoded data removed]",
      "text/plain": [
       "<Figure size 640x480 with 1 Axes>"
      ]
     },
     "metadata": {},
     "output_type": "display_data"
    }
   ],
   "source": [
    "#Plot a bar chart for categories with the total number of installing numbers in each category\n",
    "\n",
    "play_store.groupby('Category')['Installs'].sum().plot.bar()\n",
    "\n",
    "plt.xlabel('Categories')\n",
    "plt.ylabel('Total Installs')\n",
    "plt.title('Total Installs by Category')\n",
    "\n",
    "plt.yscale('log')\n",
    "\n",
    "plt.show()"
   ]
  },
  {
   "cell_type": "code",
   "execution_count": 39,
   "metadata": {},
   "outputs": [
    {
     "data": {
      "image/png": "[encoded data removed]",
      "text/plain": [
       "<Figure size 640x480 with 1 Axes>"
      ]
     },
     "metadata": {},
     "output_type": "display_data"
    }
   ],
   "source": [
    "# Plot a bar chart for the total prices of each paid app in each category (the sum of all prices in the same category)\n",
    "\n",
    "play_store[play_store[\"Type\"] == \"Paid\"].groupby('Category')['Price'].sum().plot.bar()\n",
    "\n",
    "plt.xlabel('Categories')\n",
    "plt.ylabel('Total Prices')\n",
    "plt.title('Total Price by each Category')\n",
    "\n",
    "plt.yscale('log')\n",
    "\n",
    "plt.show()"
   ]
  },
  {
   "cell_type": "code",
   "execution_count": 41,
   "metadata": {},
   "outputs": [
    {
     "data": {
      "image/png": "[encoded data removed]",
      "text/plain": [
       "<Figure size 640x480 with 1 Axes>"
      ]
     },
     "metadata": {},
     "output_type": "display_data"
    }
   ],
   "source": [
    "# Plot a bar chart of the total profit of each category by multiplying the price by the number of installs\n",
    "\n",
    "# Create a new column 'Profit' by multiplying 'Price' and 'Installs'\n",
    "play_store['Profit'] = play_store['Price'] * play_store['Installs']\n",
    "\n",
    "# Get the total profit for each category\n",
    "play_store.groupby('Category')['Profit'].sum().plot.bar()\n",
    "\n",
    "plt.xlabel('Category')\n",
    "plt.ylabel('Total Profit')\n",
    "plt.title('Total Profit by Category')\n",
    "\n",
    "plt.yscale('log')\n",
    "\n",
    "plt.show()"
   ]
  },
  {
   "cell_type": "code",
   "execution_count": 42,
   "metadata": {},
   "outputs": [
    {
     "name": "stdout",
     "output_type": "stream",
     "text": [
      "<class 'pandas.core.frame.DataFrame'>\n",
      "Int64Index: 10358 entries, 0 to 10840\n",
      "Data columns (total 14 columns):\n",
      " #   Column          Non-Null Count  Dtype  \n",
      "---  ------          --------------  -----  \n",
      " 0   App             10358 non-null  object \n",
      " 1   Category        10358 non-null  object \n",
      " 2   Rating          10358 non-null  float64\n",
      " 3   Reviews         10358 non-null  int32  \n",
      " 4   Size            10358 non-null  object \n",
      " 5   Installs        10358 non-null  int64  \n",
      " 6   Type            10357 non-null  object \n",
      " 7   Price           10358 non-null  float64\n",
      " 8   Content Rating  10357 non-null  object \n",
      " 9   Genres          10358 non-null  object \n",
      " 10  Last Updated    10358 non-null  object \n",
      " 11  Current Ver     10350 non-null  object \n",
      " 12  Android Ver     10355 non-null  object \n",
      " 13  Profit          10358 non-null  float64\n",
      "dtypes: float64(3), int32(1), int64(1), object(9)\n",
      "memory usage: 1.1+ MB\n"
     ]
    }
   ],
   "source": [
    "play_store.info()"
   ]
  },
  {
   "cell_type": "code",
   "execution_count": null,
   "metadata": {},
   "outputs": [],
   "source": []
  }
 ],
 "metadata": {
  "kernelspec": {
   "display_name": "Python 3 (ipykernel)",
   "language": "python",
   "name": "python3"
  },
  "language_info": {
   "codemirror_mode": {
    "name": "ipython",
    "version": 3
   },
   "file_extension": ".py",
   "mimetype": "text/x-python",
   "name": "python",
   "nbconvert_exporter": "python",
   "pygments_lexer": "ipython3",
   "version": "3.9.13"
  },
  "vscode": {
   "interpreter": {
    "hash": "c261aea317cc0286b3b3261fbba9abdec21eaa57589985bb7a274bf54d6cc0a7"
   }
  }
 },
 "nbformat": 4,
 "nbformat_minor": 2
}
